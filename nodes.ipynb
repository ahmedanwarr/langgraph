{
 "cells": [
  {
   "cell_type": "markdown",
   "metadata": {},
   "source": [
    "### Nodes are typically python functions (sync or async)\n",
    "\n",
    "Where the first positional argument is the state, and (optionally), the second positional argument is a \"config\", containing optional configurable parameters (such as a thread_id)."
   ]
  },
  {
   "cell_type": "code",
   "execution_count": 1,
   "metadata": {},
   "outputs": [
    {
     "data": {
      "text/plain": [
       "Ellipsis"
      ]
     },
     "execution_count": 1,
     "metadata": {},
     "output_type": "execute_result"
    }
   ],
   "source": [
    "from langchain_core.runnables import RunnableConfig\n",
    "from langgraph.graph import StateGraph\n",
    "\n",
    "builder = StateGraph(dict)\n",
    "\n",
    "\n",
    "def my_node(state: dict, config: RunnableConfig):\n",
    "    print(\"In node: \", config[\"configurable\"][\"user_id\"])\n",
    "    return {\"results\": f\"Hello, {state['input']}!\"}\n",
    "\n",
    "\n",
    "# The second argument is optional\n",
    "def my_other_node(state: dict):\n",
    "    return state\n",
    "\n",
    "\n",
    "builder.add_node(\"my_node\", my_node)\n",
    "builder.add_node(\"other_node\", my_other_node)\n",
    "..."
   ]
  },
  {
   "cell_type": "code",
   "execution_count": null,
   "metadata": {},
   "outputs": [],
   "source": []
  }
 ],
 "metadata": {
  "kernelspec": {
   "display_name": "venv",
   "language": "python",
   "name": "python3"
  },
  "language_info": {
   "codemirror_mode": {
    "name": "ipython",
    "version": 3
   },
   "file_extension": ".py",
   "mimetype": "text/x-python",
   "name": "python",
   "nbconvert_exporter": "python",
   "pygments_lexer": "ipython3",
   "version": "3.12.8"
  }
 },
 "nbformat": 4,
 "nbformat_minor": 2
}
